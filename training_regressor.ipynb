{
 "cells": [
  {
   "cell_type": "code",
   "id": "initial_id",
   "metadata": {
    "collapsed": true,
    "ExecuteTime": {
     "end_time": "2025-01-23T11:03:58.321521Z",
     "start_time": "2025-01-23T11:03:57.704023Z"
    }
   },
   "source": [
    "import pandas as pd\n",
    "import numpy as np\n"
   ],
   "outputs": [],
   "execution_count": 1
  },
  {
   "metadata": {
    "ExecuteTime": {
     "end_time": "2025-01-23T11:04:34.536130Z",
     "start_time": "2025-01-23T11:04:33.791711Z"
    }
   },
   "cell_type": "code",
   "source": [
    "import pandas as pd\n",
    "from sklearn.model_selection import train_test_split\n",
    "\n",
    "# Load the already scaled dataset\n",
    "dataset = pd.read_csv('roughness_dataset_scaled.csv')\n",
    "\n",
    "# Shuffle the dataset (already scaled)\n",
    "dataset_shuffled = dataset.sample(frac=1, random_state=42).reset_index(drop=True)\n",
    "\n",
    "# # Split into features (X) and labels (y)\n",
    "# X = dataset_shuffled.iloc[:, :-1]  # Features (all columns except the last)\n",
    "# y = dataset_shuffled.iloc[:, -1]   # Labels (last column)\n",
    "#\n",
    "# # Split into training and testing sets (80% train, 20% test)\n",
    "# X_train, X_test, y_train, y_test = train_test_split(X, y, test_size=0.2, random_state=42)\n",
    "#\n",
    "# # Check the shapes\n",
    "# print(f\"Training set size: {X_train.shape[0]} samples\")\n",
    "# print(f\"Testing set size: {X_test.shape[0]} samples\")\n"
   ],
   "id": "e4f28e5dc20f4f4e",
   "outputs": [],
   "execution_count": 2
  },
  {
   "metadata": {
    "ExecuteTime": {
     "end_time": "2025-01-23T11:04:52.193627Z",
     "start_time": "2025-01-23T11:04:52.176039Z"
    }
   },
   "cell_type": "code",
   "source": "dataset_shuffled",
   "id": "e3e8e0652e876d2f",
   "outputs": [
    {
     "data": {
      "text/plain": [
       "     Edge Density  Fractal Dimension  GLCM Contrast  LBP Uniformity  Label\n",
       "0       -0.308342           0.382504      -0.355274       -0.605453      0\n",
       "1       -0.243696          -0.249203      -0.259232       -0.696096      0\n",
       "2       -0.341912          -0.200610      -0.372058       -0.021270      1\n",
       "3       -0.326061          -0.249203      -0.282809       -0.317624      0\n",
       "4       -0.301881          -0.249203      -0.139300        1.855838      1\n",
       "..            ...                ...            ...             ...    ...\n",
       "814     -0.341912          -0.011098      -0.376391       -0.505323      0\n",
       "815     -0.341912          -0.249203      -0.378051        0.067561      0\n",
       "816      2.294467          -0.249203       0.997082       -0.830970      0\n",
       "817      2.077030          -0.249203       0.942561       -0.824483      0\n",
       "818      4.660466          -0.244344       3.070836       -0.741617      0\n",
       "\n",
       "[819 rows x 5 columns]"
      ],
      "text/html": [
       "<div>\n",
       "<style scoped>\n",
       "    .dataframe tbody tr th:only-of-type {\n",
       "        vertical-align: middle;\n",
       "    }\n",
       "\n",
       "    .dataframe tbody tr th {\n",
       "        vertical-align: top;\n",
       "    }\n",
       "\n",
       "    .dataframe thead th {\n",
       "        text-align: right;\n",
       "    }\n",
       "</style>\n",
       "<table border=\"1\" class=\"dataframe\">\n",
       "  <thead>\n",
       "    <tr style=\"text-align: right;\">\n",
       "      <th></th>\n",
       "      <th>Edge Density</th>\n",
       "      <th>Fractal Dimension</th>\n",
       "      <th>GLCM Contrast</th>\n",
       "      <th>LBP Uniformity</th>\n",
       "      <th>Label</th>\n",
       "    </tr>\n",
       "  </thead>\n",
       "  <tbody>\n",
       "    <tr>\n",
       "      <th>0</th>\n",
       "      <td>-0.308342</td>\n",
       "      <td>0.382504</td>\n",
       "      <td>-0.355274</td>\n",
       "      <td>-0.605453</td>\n",
       "      <td>0</td>\n",
       "    </tr>\n",
       "    <tr>\n",
       "      <th>1</th>\n",
       "      <td>-0.243696</td>\n",
       "      <td>-0.249203</td>\n",
       "      <td>-0.259232</td>\n",
       "      <td>-0.696096</td>\n",
       "      <td>0</td>\n",
       "    </tr>\n",
       "    <tr>\n",
       "      <th>2</th>\n",
       "      <td>-0.341912</td>\n",
       "      <td>-0.200610</td>\n",
       "      <td>-0.372058</td>\n",
       "      <td>-0.021270</td>\n",
       "      <td>1</td>\n",
       "    </tr>\n",
       "    <tr>\n",
       "      <th>3</th>\n",
       "      <td>-0.326061</td>\n",
       "      <td>-0.249203</td>\n",
       "      <td>-0.282809</td>\n",
       "      <td>-0.317624</td>\n",
       "      <td>0</td>\n",
       "    </tr>\n",
       "    <tr>\n",
       "      <th>4</th>\n",
       "      <td>-0.301881</td>\n",
       "      <td>-0.249203</td>\n",
       "      <td>-0.139300</td>\n",
       "      <td>1.855838</td>\n",
       "      <td>1</td>\n",
       "    </tr>\n",
       "    <tr>\n",
       "      <th>...</th>\n",
       "      <td>...</td>\n",
       "      <td>...</td>\n",
       "      <td>...</td>\n",
       "      <td>...</td>\n",
       "      <td>...</td>\n",
       "    </tr>\n",
       "    <tr>\n",
       "      <th>814</th>\n",
       "      <td>-0.341912</td>\n",
       "      <td>-0.011098</td>\n",
       "      <td>-0.376391</td>\n",
       "      <td>-0.505323</td>\n",
       "      <td>0</td>\n",
       "    </tr>\n",
       "    <tr>\n",
       "      <th>815</th>\n",
       "      <td>-0.341912</td>\n",
       "      <td>-0.249203</td>\n",
       "      <td>-0.378051</td>\n",
       "      <td>0.067561</td>\n",
       "      <td>0</td>\n",
       "    </tr>\n",
       "    <tr>\n",
       "      <th>816</th>\n",
       "      <td>2.294467</td>\n",
       "      <td>-0.249203</td>\n",
       "      <td>0.997082</td>\n",
       "      <td>-0.830970</td>\n",
       "      <td>0</td>\n",
       "    </tr>\n",
       "    <tr>\n",
       "      <th>817</th>\n",
       "      <td>2.077030</td>\n",
       "      <td>-0.249203</td>\n",
       "      <td>0.942561</td>\n",
       "      <td>-0.824483</td>\n",
       "      <td>0</td>\n",
       "    </tr>\n",
       "    <tr>\n",
       "      <th>818</th>\n",
       "      <td>4.660466</td>\n",
       "      <td>-0.244344</td>\n",
       "      <td>3.070836</td>\n",
       "      <td>-0.741617</td>\n",
       "      <td>0</td>\n",
       "    </tr>\n",
       "  </tbody>\n",
       "</table>\n",
       "<p>819 rows × 5 columns</p>\n",
       "</div>"
      ]
     },
     "execution_count": 4,
     "metadata": {},
     "output_type": "execute_result"
    }
   ],
   "execution_count": 4
  },
  {
   "metadata": {
    "ExecuteTime": {
     "end_time": "2025-01-23T11:06:33.281720Z",
     "start_time": "2025-01-23T11:06:22.139116Z"
    }
   },
   "cell_type": "code",
   "source": [
    "import matplotlib.pyplot as plt\n",
    "import seaborn as sns\n",
    "# Compute correlation matrix\n",
    "corr_matrix = dataset_shuffled.corr()\n",
    "print(corr_matrix)\n",
    "\n",
    "# Plot correlation matrix\n",
    "plt.figure(figsize=(10, 8))\n",
    "sns.heatmap(corr_matrix, annot=True, cmap='coolwarm', fmt='.2f', cbar=True)\n",
    "plt.title(\"Correlation Matrix\")\n",
    "plt.show()"
   ],
   "id": "e0d372d9aa6fab64",
   "outputs": [
    {
     "name": "stderr",
     "output_type": "stream",
     "text": [
      "Matplotlib is building the font cache; this may take a moment.\n"
     ]
    },
    {
     "data": {
      "text/plain": [
       "<Figure size 1000x800 with 2 Axes>"
      ],
      "image/png": "[encoded data removed]"
     },
     "metadata": {},
     "output_type": "display_data"
    }
   ],
   "execution_count": 5
  },
  {
   "metadata": {
    "ExecuteTime": {
     "end_time": "2025-01-23T11:07:53.016898Z",
     "start_time": "2025-01-23T11:07:52.997136Z"
    }
   },
   "cell_type": "code",
   "source": "print(corr_matrix)",
   "id": "37d63b070b4a2ff6",
   "outputs": [
    {
     "name": "stdout",
     "output_type": "stream",
     "text": [
      "                   Edge Density  Fractal Dimension  GLCM Contrast  \\\n",
      "Edge Density           1.000000           0.358057       0.892266   \n",
      "Fractal Dimension      0.358057           1.000000       0.259791   \n",
      "GLCM Contrast          0.892266           0.259791       1.000000   \n",
      "LBP Uniformity        -0.245612          -0.170241      -0.174753   \n",
      "Label                 -0.233050          -0.084150      -0.170911   \n",
      "\n",
      "                   LBP Uniformity     Label  \n",
      "Edge Density            -0.245612 -0.233050  \n",
      "Fractal Dimension       -0.170241 -0.084150  \n",
      "GLCM Contrast           -0.174753 -0.170911  \n",
      "LBP Uniformity           1.000000  0.600124  \n",
      "Label                    0.600124  1.000000  \n"
     ]
    }
   ],
   "execution_count": 6
  },
  {
   "metadata": {
    "ExecuteTime": {
     "end_time": "2025-01-23T11:28:31.826164Z",
     "start_time": "2025-01-23T11:28:31.649450Z"
    }
   },
   "cell_type": "code",
   "source": [
    "from sklearn.ensemble import RandomForestRegressor\n",
    "from sklearn.model_selection import train_test_split\n",
    "from sklearn.metrics import mean_squared_error, r2_score\n",
    "\n",
    "# Load the scaled dataset\n",
    "dataset = pd.read_csv('roughness_dataset_scaled.csv')\n",
    "\n",
    "# Invert the Edge Density feature (1 - Edge Density)\n",
    "dataset['Edge Density'] = 1 - dataset['Edge Density']\n",
    "\n",
    "# Define features (with the adjusted Edge Density)\n",
    "X = dataset[['Edge Density', 'Fractal Dimension', 'GLCM Contrast', 'LBP Uniformity']]\n",
    "y = dataset['Label']  # Smoothness label (0 = rough, 1 = smooth)\n",
    "\n",
    "# Split into train/test\n",
    "X_train, X_test, y_train, y_test = train_test_split(X, y, test_size=0.2, random_state=42)\n",
    "\n",
    "# Initialize and train the Random Forest Regressor\n",
    "model = RandomForestRegressor(n_estimators=100, random_state=42)\n",
    "model.fit(X_train, y_train)\n",
    "\n",
    "# Make predictions\n",
    "y_pred = model.predict(X_test)\n",
    "\n",
    "# Evaluate the model\n",
    "rmse = mean_squared_error(y_test, y_pred)\n",
    "r2 = r2_score(y_test, y_pred)\n",
    "\n",
    "print(f'RMSE: {rmse}')\n",
    "print(f'R²: {r2}')\n"
   ],
   "id": "d772b5dc1cff481",
   "outputs": [
    {
     "name": "stdout",
     "output_type": "stream",
     "text": [
      "RMSE: 0.11439634146341462\n",
      "R²: 0.5243036487322201\n"
     ]
    }
   ],
   "execution_count": 16
  },
  {
   "metadata": {
    "ExecuteTime": {
     "end_time": "2025-01-23T11:28:14.779906Z",
     "start_time": "2025-01-23T11:28:14.774331Z"
    }
   },
   "cell_type": "code",
   "source": "y_pred",
   "id": "4f785328eff63a3",
   "outputs": [
    {
     "data": {
      "text/plain": [
       "array([0.12, 0.  , 0.17, 0.32, 1.  , 1.  , 0.43, 0.89, 0.28, 0.86, 0.  ,\n",
       "       0.5 , 0.24, 0.15, 1.  , 0.07, 0.04, 0.88, 1.  , 1.  , 0.4 , 0.72,\n",
       "       0.03, 0.22, 0.04, 1.  , 1.  , 0.77, 0.32, 0.02, 0.  , 1.  , 0.29,\n",
       "       0.14, 0.26, 0.49, 0.1 , 0.53, 1.  , 0.1 , 0.08, 0.7 , 0.  , 0.43,\n",
       "       0.52, 0.  , 0.05, 0.05, 0.6 , 0.03, 0.53, 1.  , 0.61, 1.  , 0.66,\n",
       "       0.31, 0.1 , 0.74, 0.05, 1.  , 0.57, 0.68, 0.34, 0.25, 0.21, 0.  ,\n",
       "       0.1 , 0.72, 0.  , 0.9 , 0.97, 0.44, 0.99, 0.05, 0.61, 0.04, 0.06,\n",
       "       0.15, 0.23, 0.16, 0.18, 0.07, 0.1 , 0.81, 1.  , 0.  , 0.  , 1.  ,\n",
       "       0.01, 0.17, 0.  , 0.  , 0.98, 0.1 , 0.96, 0.6 , 0.04, 0.  , 0.01,\n",
       "       0.4 , 0.22, 0.01, 0.26, 1.  , 0.5 , 0.77, 0.12, 0.05, 0.29, 0.09,\n",
       "       0.79, 0.12, 0.93, 0.95, 0.98, 0.15, 0.76, 0.11, 0.07, 0.57, 0.2 ,\n",
       "       0.53, 0.15, 0.44, 0.06, 0.45, 0.2 , 0.08, 1.  , 0.  , 0.65, 0.59,\n",
       "       0.92, 0.57, 0.44, 0.34, 0.25, 0.  , 0.18, 0.99, 0.13, 0.27, 0.08,\n",
       "       0.  , 0.09, 0.68, 0.78, 0.1 , 0.58, 0.  , 0.35, 0.  , 0.13, 0.28,\n",
       "       0.21, 0.  , 0.07, 0.02, 0.24, 0.15, 0.23, 0.77, 0.55, 1.  ])"
      ]
     },
     "execution_count": 14,
     "metadata": {},
     "output_type": "execute_result"
    }
   ],
   "execution_count": 14
  },
  {
   "metadata": {
    "ExecuteTime": {
     "end_time": "2025-01-23T11:39:28.078045Z",
     "start_time": "2025-01-23T11:39:27.856050Z"
    }
   },
   "cell_type": "code",
   "source": [
    "from sklearn.ensemble import RandomForestRegressor\n",
    "from sklearn.model_selection import train_test_split\n",
    "from sklearn.metrics import mean_squared_error, r2_score\n",
    "\n",
    "# Load the scaled dataset\n",
    "dataset = pd.read_csv('wall_roughness_dataset.csv')\n",
    "\n",
    "# Invert the Edge Density feature (1 - Edge Density)\n",
    "# dataset['Edge Density'] = 1 - dataset['Edge Density']\n",
    "\n",
    "# Define features (with the adjusted Edge Density)\n",
    "X = dataset[[\n",
    "        'Edge Density',\n",
    "        'Fractal Dimension',\n",
    "        'Contour Count',\n",
    "        'Avg Contour Area',\n",
    "        'GLCM Contrast',\n",
    "        'GLCM Homogeneity',\n",
    "        'LBP Uniformity',\n",
    "        'Gradient Skewness'\n",
    "]]\n",
    "y = dataset['Label']  # Smoothness label (0 = rough, 1 = smooth)\n",
    "\n",
    "# Split into train/test\n",
    "X_train, X_test, y_train, y_test = train_test_split(X, y, test_size=0.2, random_state=42)\n",
    "\n",
    "# Initialize and train the Random Forest Regressor\n",
    "model = RandomForestRegressor(n_estimators=100, random_state=42)\n",
    "model.fit(X_train, y_train)\n",
    "\n",
    "# Make predictions\n",
    "y_pred = model.predict(X_test)\n",
    "\n",
    "# Evaluate the model\n",
    "rmse = mean_squared_error(y_test, y_pred)\n",
    "r2 = r2_score(y_test, y_pred)\n",
    "\n",
    "print(f'RMSE: {rmse}')\n",
    "print(f'R²: {r2}')\n"
   ],
   "id": "b2438300c1601c20",
   "outputs": [
    {
     "name": "stdout",
     "output_type": "stream",
     "text": [
      "RMSE: 0.09377804878048782\n",
      "R²: 0.6100410636982065\n"
     ]
    }
   ],
   "execution_count": 27
  },
  {
   "metadata": {
    "ExecuteTime": {
     "end_time": "2025-01-23T11:39:40.749520Z",
     "start_time": "2025-01-23T11:39:40.735552Z"
    }
   },
   "cell_type": "code",
   "source": "y_pred",
   "id": "42b95ef300c6f788",
   "outputs": [
    {
     "data": {
      "text/plain": [
       "array([0.89, 0.96, 0.82, 1.  , 0.  , 0.  , 0.08, 0.  , 1.  , 0.05, 1.  ,\n",
       "       0.71, 0.97, 0.87, 0.02, 0.99, 0.99, 0.05, 0.  , 0.  , 0.4 , 0.8 ,\n",
       "       0.86, 0.98, 0.95, 0.  , 0.  , 0.76, 0.76, 1.  , 1.  , 0.  , 1.  ,\n",
       "       1.  , 0.85, 0.08, 1.  , 0.92, 0.  , 0.96, 0.91, 0.34, 0.99, 0.06,\n",
       "       0.01, 1.  , 0.93, 0.98, 0.72, 0.95, 0.98, 0.  , 0.06, 0.21, 0.56,\n",
       "       0.33, 0.95, 0.21, 0.61, 0.02, 0.41, 0.06, 0.32, 0.53, 0.88, 1.  ,\n",
       "       0.79, 0.44, 1.  , 0.34, 0.  , 0.18, 0.  , 0.99, 0.47, 0.72, 0.9 ,\n",
       "       0.96, 0.69, 0.63, 0.96, 0.98, 0.89, 0.2 , 0.1 , 0.96, 0.95, 0.  ,\n",
       "       1.  , 0.75, 0.95, 0.99, 0.  , 0.85, 0.  , 0.26, 0.94, 0.98, 0.98,\n",
       "       0.71, 0.4 , 0.94, 0.29, 0.  , 0.88, 0.4 , 0.97, 0.71, 0.87, 0.95,\n",
       "       0.07, 0.98, 0.02, 0.  , 0.22, 1.  , 0.18, 0.92, 1.  , 0.49, 0.87,\n",
       "       0.83, 0.92, 0.99, 0.97, 0.84, 0.25, 0.75, 0.  , 1.  , 0.08, 0.27,\n",
       "       0.2 , 0.65, 0.19, 0.89, 1.  , 0.59, 1.  , 0.03, 1.  , 0.83, 1.  ,\n",
       "       1.  , 0.81, 0.09, 0.12, 0.74, 0.66, 1.  , 0.94, 0.94, 0.94, 0.95,\n",
       "       0.87, 1.  , 0.93, 0.92, 0.26, 1.  , 0.94, 0.08, 0.52, 0.09])"
      ]
     },
     "execution_count": 28,
     "metadata": {},
     "output_type": "execute_result"
    }
   ],
   "execution_count": 28
  },
  {
   "metadata": {
    "ExecuteTime": {
     "end_time": "2025-01-23T11:39:21.445886Z",
     "start_time": "2025-01-23T11:39:20.523333Z"
    }
   },
   "cell_type": "code",
   "source": [
    "import pandas as pd\n",
    "from sklearn.model_selection import train_test_split\n",
    "from sklearn.metrics import mean_squared_error, r2_score\n",
    "import xgboost as xgb\n",
    "\n",
    "# Load the scaled dataset\n",
    "dataset = pd.read_csv('wall_roughness_dataset.csv')\n",
    "\n",
    "\n",
    "# Define features (with the adjusted Edge Density)\n",
    "X = dataset[[\n",
    "        'Edge Density',\n",
    "        'Fractal Dimension',\n",
    "        'Contour Count',\n",
    "        'Avg Contour Area',\n",
    "        'GLCM Contrast',\n",
    "        'GLCM Homogeneity',\n",
    "        'LBP Uniformity',\n",
    "        'Gradient Skewness'\n",
    "]]\n",
    "y = dataset['Label']  # Smoothness label (0 = rough, 1 = smooth)\n",
    "\n",
    "# Split into train/test\n",
    "X_train, X_test, y_train, y_test = train_test_split(X, y, test_size=0.2, random_state=42)\n",
    "\n",
    "# Initialize the XGBoost Regressor model\n",
    "model = xgb.XGBRegressor(objective='reg:squarederror',\n",
    "                         n_estimators=100,\n",
    "                         random_state=42,\n",
    "                         learning_rate=0.1,\n",
    "                         max_depth=6,\n",
    "                         colsample_bytree=0.8,\n",
    "                         subsample=0.8)\n",
    "\n",
    "# Train the model\n",
    "model.fit(X_train, y_train)\n",
    "\n",
    "# Make predictions\n",
    "y_pred = model.predict(X_test)\n",
    "\n",
    "# Evaluate the model\n",
    "rmse = mean_squared_error(y_test, y_pred)  # RMSE (root of MSE)\n",
    "r2 = r2_score(y_test, y_pred)\n",
    "\n",
    "print(f'RMSE: {rmse}')\n",
    "print(f'R²: {r2}')\n"
   ],
   "id": "16be58ddf765d309",
   "outputs": [
    {
     "name": "stdout",
     "output_type": "stream",
     "text": [
      "RMSE: 0.09563916176557541\n",
      "R²: 0.6023019552230835\n"
     ]
    }
   ],
   "execution_count": 26
  },
  {
   "metadata": {
    "ExecuteTime": {
     "end_time": "2025-01-23T11:35:15.426858Z",
     "start_time": "2025-01-23T11:35:14.814083Z"
    }
   },
   "cell_type": "code",
   "source": [
    "import xgboost as xgb\n",
    "print(xgb.__version__)\n",
    "\n"
   ],
   "id": "bf6834ed92bb6813",
   "outputs": [
    {
     "name": "stdout",
     "output_type": "stream",
     "text": [
      "2.1.3\n"
     ]
    }
   ],
   "execution_count": 22
  },
  {
   "metadata": {
    "ExecuteTime": {
     "end_time": "2025-01-23T12:05:48.679780Z",
     "start_time": "2025-01-23T12:05:46.723091Z"
    }
   },
   "cell_type": "code",
   "source": [
    "from ultralytics import YOLO\n",
    "yolo = YOLO('best.pt')"
   ],
   "id": "6eb0b149f325e5ad",
   "outputs": [
    {
     "name": "stderr",
     "output_type": "stream",
     "text": [
      "/Users/amananand/pycharmprojects/wall Inspection/.venv/lib/python3.9/site-packages/urllib3/__init__.py:35: NotOpenSSLWarning: urllib3 v2 only supports OpenSSL 1.1.1+, currently the 'ssl' module is compiled with 'LibreSSL 2.8.3'. See: https://github.com/urllib3/urllib3/issues/3020\n",
      "  warnings.warn(\n"
     ]
    }
   ],
   "execution_count": 2
  },
  {
   "metadata": {
    "ExecuteTime": {
     "end_time": "2025-01-23T12:05:51.079630Z",
     "start_time": "2025-01-23T12:05:49.825444Z"
    }
   },
   "cell_type": "code",
   "source": "yolo('/Users/amananand/pycharmprojects/wall Inspection/fyp robot.v3i.yolov8/test/images/20240122_101903_jpg.rf.99aad4258d124925de88669fcceadeca.jpg',show=True)",
   "id": "6ec551c2bbfd833c",
   "outputs": [
    {
     "name": "stdout",
     "output_type": "stream",
     "text": [
      "\n",
      "image 1/1 /Users/amananand/pycharmprojects/wall Inspection/fyp robot.v3i.yolov8/test/images/20240122_101903_jpg.rf.99aad4258d124925de88669fcceadeca.jpg: 640x640 1 Rough Wall, 108.9ms\n",
      "Speed: 3.0ms preprocess, 108.9ms inference, 6.2ms postprocess per image at shape (1, 3, 640, 640)\n"
     ]
    },
    {
     "data": {
      "text/plain": [
       "[ultralytics.engine.results.Results object with attributes:\n",
       " \n",
       " boxes: ultralytics.engine.results.Boxes object\n",
       " keypoints: None\n",
       " masks: None\n",
       " names: {0: 'Rough Wall', 1: 'Smooth Wall'}\n",
       " obb: None\n",
       " orig_img: array([[[ 95, 117, 128],\n",
       "         [ 94, 116, 127],\n",
       "         [ 95, 115, 126],\n",
       "         ...,\n",
       "         [106, 126, 137],\n",
       "         [104, 124, 135],\n",
       "         [102, 122, 133]],\n",
       " \n",
       "        [[ 92, 114, 125],\n",
       "         [ 92, 114, 125],\n",
       "         [ 93, 113, 124],\n",
       "         ...,\n",
       "         [104, 124, 135],\n",
       "         [103, 123, 134],\n",
       "         [102, 122, 133]],\n",
       " \n",
       "        [[ 94, 114, 125],\n",
       "         [ 94, 114, 125],\n",
       "         [ 94, 114, 125],\n",
       "         ...,\n",
       "         [108, 128, 139],\n",
       "         [108, 128, 139],\n",
       "         [109, 129, 140]],\n",
       " \n",
       "        ...,\n",
       " \n",
       "        [[ 81,  97, 113],\n",
       "         [ 81,  97, 113],\n",
       "         [ 84,  99, 115],\n",
       "         ...,\n",
       "         [115, 127, 139],\n",
       "         [114, 126, 138],\n",
       "         [114, 126, 138]],\n",
       " \n",
       "        [[ 85, 101, 117],\n",
       "         [ 85, 101, 117],\n",
       "         [ 86, 101, 117],\n",
       "         ...,\n",
       "         [114, 126, 138],\n",
       "         [115, 127, 139],\n",
       "         [116, 128, 140]],\n",
       " \n",
       "        [[ 87, 103, 119],\n",
       "         [ 86, 102, 118],\n",
       "         [ 84,  99, 115],\n",
       "         ...,\n",
       "         [114, 126, 138],\n",
       "         [116, 128, 140],\n",
       "         [118, 130, 142]]], dtype=uint8)\n",
       " orig_shape: (640, 640)\n",
       " path: '/Users/amananand/pycharmprojects/wall Inspection/fyp robot.v3i.yolov8/test/images/20240122_101903_jpg.rf.99aad4258d124925de88669fcceadeca.jpg'\n",
       " probs: None\n",
       " save_dir: '/Users/amananand/pycharmprojects/wall Inspection/runs/detect/predict'\n",
       " speed: {'preprocess': 2.975940704345703, 'inference': 108.86192321777344, 'postprocess': 6.218910217285156}]"
      ]
     },
     "execution_count": 3,
     "metadata": {},
     "output_type": "execute_result"
    }
   ],
   "execution_count": 3
  },
  {
   "metadata": {
    "ExecuteTime": {
     "end_time": "2025-01-23T12:02:51.718280Z",
     "start_time": "2025-01-23T12:02:51.714329Z"
    }
   },
   "cell_type": "code",
   "source": "",
   "id": "3796c9a509555dea",
   "outputs": [],
   "execution_count": null
  },
  {
   "metadata": {},
   "cell_type": "code",
   "outputs": [],
   "execution_count": null,
   "source": "",
   "id": "1f6f38a463bd5b30"
  }
 ],
 "metadata": {
  "kernelspec": {
   "display_name": "Python 3",
   "language": "python",
   "name": "python3"
  },
  "language_info": {
   "codemirror_mode": {
    "name": "ipython",
    "version": 2
   },
   "file_extension": ".py",
   "mimetype": "text/x-python",
   "name": "python",
   "nbconvert_exporter": "python",
   "pygments_lexer": "ipython2",
   "version": "2.7.6"
  }
 },
 "nbformat": 4,
 "nbformat_minor": 5
}
